{
 "cells": [
  {
   "cell_type": "markdown",
   "id": "69032b4b-b031-4020-beb0-e8dfd22b660e",
   "metadata": {},
   "source": [
    "# LangChain 实战：航运业务聊天机器人"
   ]
  },
  {
   "cell_type": "code",
   "execution_count": 14,
   "id": "efcee928-b9f4-4e4a-b9fb-f6cbee21b642",
   "metadata": {},
   "outputs": [],
   "source": [
    "with open(\"real_shipping_data.txt\", \"r\", encoding='utf-8') as f:\n",
    "    real_shipping = f.read()"
   ]
  },
  {
   "cell_type": "markdown",
   "id": "a9119556-d2e3-4edf-be16-15837da156f1",
   "metadata": {},
   "source": [
    "### 使用 CharacterTextSplitter 来进行文本分割\n",
    "\n",
    "- 基于单字符来进行文本分割（separator）\n",
    "- 基于字符数来决定文本块长度（chunk_size）\n",
    "\n",
    "参考示例：\n",
    "\n",
    "```python\n",
    "from langchain.text_splitter import CharacterTextSplitter\n",
    "text_splitter = CharacterTextSplitter(        \n",
    "    separator = \"\\n\\n\",\n",
    "    chunk_size = 1000,\n",
    "    chunk_overlap  = 200,\n",
    "    length_function = len,\n",
    "    is_separator_regex = False,\n",
    ")\n",
    "```\n"
   ]
  },
  {
   "cell_type": "code",
   "execution_count": 15,
   "id": "dbe535b8-2bd8-4c31-91d7-eba8aa61b3ef",
   "metadata": {},
   "outputs": [],
   "source": [
    "from langchain.text_splitter import CharacterTextSplitter"
   ]
  },
  {
   "cell_type": "code",
   "execution_count": 16,
   "id": "a4f30d9b-9fc6-4860-a497-0aa8220b9284",
   "metadata": {},
   "outputs": [],
   "source": [
    "text_splitter = CharacterTextSplitter(        \n",
    "    separator = r'\\d+\\.',\n",
    "    chunk_size = 100,\n",
    "    chunk_overlap  = 0,\n",
    "    length_function = len,\n",
    "    is_separator_regex = True,\n",
    ")"
   ]
  },
  {
   "cell_type": "code",
   "execution_count": 17,
   "id": "530f3172-17a5-4924-ad17-284fbca422ae",
   "metadata": {},
   "outputs": [
    {
     "name": "stderr",
     "output_type": "stream",
     "text": [
      "Created a chunk of size 105, which is longer than the specified 100\n",
      "Created a chunk of size 106, which is longer than the specified 100\n",
      "Created a chunk of size 144, which is longer than the specified 100\n",
      "Created a chunk of size 124, which is longer than the specified 100\n",
      "Created a chunk of size 129, which is longer than the specified 100\n",
      "Created a chunk of size 125, which is longer than the specified 100\n",
      "Created a chunk of size 170, which is longer than the specified 100\n",
      "Created a chunk of size 128, which is longer than the specified 100\n",
      "Created a chunk of size 149, which is longer than the specified 100\n",
      "Created a chunk of size 148, which is longer than the specified 100\n",
      "Created a chunk of size 103, which is longer than the specified 100\n",
      "Created a chunk of size 132, which is longer than the specified 100\n",
      "Created a chunk of size 138, which is longer than the specified 100\n",
      "Created a chunk of size 147, which is longer than the specified 100\n",
      "Created a chunk of size 135, which is longer than the specified 100\n",
      "Created a chunk of size 154, which is longer than the specified 100\n",
      "Created a chunk of size 123, which is longer than the specified 100\n",
      "Created a chunk of size 187, which is longer than the specified 100\n",
      "Created a chunk of size 141, which is longer than the specified 100\n"
     ]
    }
   ],
   "source": [
    "docs = text_splitter.create_documents([real_shipping])"
   ]
  },
  {
   "cell_type": "code",
   "execution_count": 18,
   "id": "3956ec36-706e-4f43-88fc-d704f2984290",
   "metadata": {},
   "outputs": [
    {
     "data": {
      "text/plain": [
       "Document(page_content='[用户问题] 航运市场主要分为哪几种类型?\\n[业务人员回答] 航运市场主要分为散货市场, 集装箱市场和油轮市场.')"
      ]
     },
     "execution_count": 18,
     "metadata": {},
     "output_type": "execute_result"
    }
   ],
   "source": [
    "docs[0]"
   ]
  },
  {
   "cell_type": "code",
   "execution_count": 19,
   "id": "73b2d47a-27ae-4cd4-a72a-3809b4c22bff",
   "metadata": {},
   "outputs": [
    {
     "data": {
      "text/plain": [
       "30"
      ]
     },
     "execution_count": 19,
     "metadata": {},
     "output_type": "execute_result"
    }
   ],
   "source": [
    "len(docs)"
   ]
  },
  {
   "cell_type": "markdown",
   "id": "e4617858-ad9c-42eb-a4c3-6bfb7108cdd2",
   "metadata": {},
   "source": [
    "### 使用 Faiss 作为向量数据库，持久化存储航运业务问答对（QA-Pair）"
   ]
  },
  {
   "cell_type": "code",
   "execution_count": 20,
   "id": "508c2ab2-e187-424f-a43c-ca3d3b1a0550",
   "metadata": {},
   "outputs": [
    {
     "name": "stderr",
     "output_type": "stream",
     "text": [
      "D:\\soft\\miniConda\\envs\\langchain\\lib\\site-packages\\langchain_core\\_api\\deprecation.py:139: LangChainDeprecationWarning: The class `OpenAIEmbeddings` was deprecated in LangChain 0.0.9 and will be removed in 0.3.0. An updated version of the class exists in the langchain-openai package and should be used instead. To use it run `pip install -U langchain-openai` and import as `from langchain_openai import OpenAIEmbeddings`.\n",
      "  warn_deprecated(\n"
     ]
    }
   ],
   "source": [
    "from langchain.embeddings.openai import OpenAIEmbeddings\n",
    "from langchain.text_splitter import CharacterTextSplitter\n",
    "from langchain.vectorstores import FAISS\n",
    "\n",
    "db = FAISS.from_documents(docs, OpenAIEmbeddings())"
   ]
  },
  {
   "cell_type": "code",
   "execution_count": 21,
   "id": "250e0873-95e2-4372-98a5-68c0feb304bb",
   "metadata": {},
   "outputs": [],
   "source": [
    "query = \"有哪些船\""
   ]
  },
  {
   "cell_type": "code",
   "execution_count": 22,
   "id": "0d18fcc6-c2be-434b-b8de-9648ac6f83f4",
   "metadata": {},
   "outputs": [],
   "source": [
    "answer_list = db.similarity_search(query)"
   ]
  },
  {
   "cell_type": "code",
   "execution_count": 23,
   "id": "e689667e-7a45-40d6-9eae-4e52cbc7daab",
   "metadata": {},
   "outputs": [
    {
     "name": "stdout",
     "output_type": "stream",
     "text": [
      "[用户问题] 船舶的主要分类有哪些?\n",
      "[业务人员回答] 船舶主要可以分为货船, 客船, 渔船, 特种船等.货船中还有散货船, 油轮, 集装箱船等.客船包括邮轮和渡轮.特种船包括冰区船舶, 搜救船, 拖轮等.\n",
      "\n",
      "[用户问题] 船只遵循哪些国际法规以确保航行安全?\n",
      "[业务人员回答] 只应遵循<国际海上避碰规则>(COLREGs), <国际海上人命安全公约>(SOLAS)和<海洋污染防治国际公约>(MARPOL)等.\n",
      "\n",
      "[用户问题] 集装箱船和散货船有何不同?\n",
      "[业务人员回答] 集装箱船用于运输标准化的集装箱货物, 而散货船则专门用来运输未经包装的散装货物, 如石油, 煤炭和谷物.\n",
      "\n",
      "[用户问题] Panamax和Post-Panamax船舶有什么区别?\n",
      "[业务人员回答] Panamax船舶是指最大尺寸可以穿过巴拿马运河原有的船闸的船舶.Post-Panamax船舶是指尺寸大于原巴拿马运河船闸限制的船舶, 因此无法穿越旧运河但可能适用于2016年后扩建的新运河.\n",
      "\n"
     ]
    }
   ],
   "source": [
    "for ans in answer_list:\n",
    "    print(ans.page_content + \"\\n\")"
   ]
  },
  {
   "cell_type": "code",
   "execution_count": 24,
   "id": "a6cc47bf-1566-472f-84d2-a46bd634907c",
   "metadata": {},
   "outputs": [],
   "source": [
    "db.save_local(\"real_shipping\")"
   ]
  },
  {
   "cell_type": "markdown",
   "id": "0d5323e5-03fa-4c1c-b896-3ccc28af1857",
   "metadata": {},
   "source": [
    "### 使用 retriever 从向量数据库中获取结果\n",
    "\n",
    "#### 使用参数 `k` 指定返回结果数量\n"
   ]
  },
  {
   "cell_type": "code",
   "execution_count": 25,
   "id": "17f051c9-8676-48d1-a9a4-e69b52630faf",
   "metadata": {},
   "outputs": [],
   "source": [
    "# 实例化一个 TopK Retriever\n",
    "topK_retriever = db.as_retriever(search_kwargs={\"k\": 3})"
   ]
  },
  {
   "cell_type": "code",
   "execution_count": 26,
   "id": "e33024db-ca7b-4d68-9b0e-c31c15ded57d",
   "metadata": {},
   "outputs": [
    {
     "data": {
      "text/plain": [
       "VectorStoreRetriever(tags=['FAISS', 'OpenAIEmbeddings'], vectorstore=<langchain_community.vectorstores.faiss.FAISS object at 0x000002B1B64D5BD0>, search_kwargs={'k': 3})"
      ]
     },
     "execution_count": 26,
     "metadata": {},
     "output_type": "execute_result"
    }
   ],
   "source": [
    "topK_retriever"
   ]
  },
  {
   "cell_type": "code",
   "execution_count": 27,
   "id": "7efb1414-859f-4818-bacd-e1e2edf34b95",
   "metadata": {},
   "outputs": [
    {
     "name": "stderr",
     "output_type": "stream",
     "text": [
      "D:\\soft\\miniConda\\envs\\langchain\\lib\\site-packages\\langchain_core\\_api\\deprecation.py:139: LangChainDeprecationWarning: The method `BaseRetriever.get_relevant_documents` was deprecated in langchain-core 0.1.46 and will be removed in 0.3.0. Use invoke instead.\n",
      "  warn_deprecated(\n"
     ]
    },
    {
     "name": "stdout",
     "output_type": "stream",
     "text": [
      "[用户问题] 船舶的主要分类有哪些?\n",
      "[业务人员回答] 船舶主要可以分为货船, 客船, 渔船, 特种船等.货船中还有散货船, 油轮, 集装箱船等.客船包括邮轮和渡轮.特种船包括冰区船舶, 搜救船, 拖轮等.\n",
      "\n",
      "[用户问题] 船只遵循哪些国际法规以确保航行安全?\n",
      "[业务人员回答] 只应遵循<国际海上避碰规则>(COLREGs), <国际海上人命安全公约>(SOLAS)和<海洋污染防治国际公约>(MARPOL)等.\n",
      "\n",
      "[用户问题] 集装箱船和散货船有何不同?\n",
      "[业务人员回答] 集装箱船用于运输标准化的集装箱货物, 而散货船则专门用来运输未经包装的散装货物, 如石油, 煤炭和谷物.\n",
      "\n"
     ]
    }
   ],
   "source": [
    "docs = topK_retriever.get_relevant_documents(query)\n",
    "for doc in docs:\n",
    "    print(doc.page_content + \"\\n\")"
   ]
  },
  {
   "cell_type": "code",
   "execution_count": 34,
   "id": "a3c4b62d-6f8f-461b-a4fb-41c8a404b831",
   "metadata": {},
   "outputs": [],
   "source": [
    "docs = topK_retriever.get_relevant_documents(\"有哪些船？\")"
   ]
  },
  {
   "cell_type": "code",
   "execution_count": 35,
   "id": "04cca3d7-23d9-491f-8350-faeb19861dec",
   "metadata": {},
   "outputs": [
    {
     "name": "stdout",
     "output_type": "stream",
     "text": [
      "[用户问题] 船舶的主要分类有哪些?\n",
      "[业务人员回答] 船舶主要可以分为货船, 客船, 渔船, 特种船等.货船中还有散货船, 油轮, 集装箱船等.客船包括邮轮和渡轮.特种船包括冰区船舶, 搜救船, 拖轮等.\n",
      "\n",
      "[用户问题] 集装箱船和散货船有何不同?\n",
      "[业务人员回答] 集装箱船用于运输标准化的集装箱货物, 而散货船则专门用来运输未经包装的散装货物, 如石油, 煤炭和谷物.\n",
      "\n",
      "[用户问题] 船只遵循哪些国际法规以确保航行安全?\n",
      "[业务人员回答] 只应遵循<国际海上避碰规则>(COLREGs), <国际海上人命安全公约>(SOLAS)和<海洋污染防治国际公约>(MARPOL)等.\n",
      "\n"
     ]
    }
   ],
   "source": [
    "for doc in docs:\n",
    "    print(doc.page_content + \"\\n\")"
   ]
  },
  {
   "cell_type": "markdown",
   "id": "b335c9e5-bc01-4a47-916c-03bec0e7a839",
   "metadata": {},
   "source": [
    "#### 使用 similarity_score_threshold 设置阈值，提升结果的相关性质量"
   ]
  },
  {
   "cell_type": "code",
   "execution_count": 36,
   "id": "b1298956-6cf3-4a68-a3c2-a3149f64f156",
   "metadata": {},
   "outputs": [],
   "source": [
    "# 实例化一个 similarity_score_threshold Retriever\n",
    "retriever = db.as_retriever(\n",
    "    search_type=\"similarity_score_threshold\",\n",
    "    search_kwargs={\"score_threshold\": 0.8}\n",
    ")"
   ]
  },
  {
   "cell_type": "code",
   "execution_count": 37,
   "id": "d61167de-72ed-4618-a2e1-5df04784a3bc",
   "metadata": {},
   "outputs": [
    {
     "name": "stderr",
     "output_type": "stream",
     "text": [
      "D:\\soft\\miniConda\\envs\\langchain\\lib\\site-packages\\langchain_core\\vectorstores\\base.py:796: UserWarning: No relevant docs were retrieved using the relevance score threshold 0.8\n",
      "  warnings.warn(\n"
     ]
    }
   ],
   "source": [
    "docs = retriever.get_relevant_documents(query)\n",
    "for doc in docs:\n",
    "    print(doc.page_content + \"\\n\")"
   ]
  },
  {
   "cell_type": "code",
   "execution_count": null,
   "id": "548d1b52-6fa2-46d6-9218-908db572f380",
   "metadata": {},
   "outputs": [],
   "source": []
  },
  {
   "cell_type": "markdown",
   "id": "c31344ce-f952-4604-b700-fdbb34da1e28",
   "metadata": {},
   "source": [
    "### 提取向量数据库中的`业务人员回答`"
   ]
  },
  {
   "cell_type": "code",
   "execution_count": 38,
   "id": "25768463-da65-4762-978d-51c0c3a9c24b",
   "metadata": {},
   "outputs": [
    {
     "name": "stderr",
     "output_type": "stream",
     "text": [
      "D:\\soft\\miniConda\\envs\\langchain\\lib\\site-packages\\langchain_core\\vectorstores\\base.py:796: UserWarning: No relevant docs were retrieved using the relevance score threshold 0.8\n",
      "  warnings.warn(\n"
     ]
    }
   ],
   "source": [
    "docs = retriever.get_relevant_documents(query)"
   ]
  },
  {
   "cell_type": "code",
   "execution_count": 39,
   "id": "4838d3da-dca3-4c31-80da-cec75760a833",
   "metadata": {},
   "outputs": [
    {
     "ename": "IndexError",
     "evalue": "list index out of range",
     "output_type": "error",
     "traceback": [
      "\u001b[1;31m---------------------------------------------------------------------------\u001b[0m",
      "\u001b[1;31mIndexError\u001b[0m                                Traceback (most recent call last)",
      "Cell \u001b[1;32mIn[39], line 1\u001b[0m\n\u001b[1;32m----> 1\u001b[0m \u001b[43mdocs\u001b[49m\u001b[43m[\u001b[49m\u001b[38;5;241;43m0\u001b[39;49m\u001b[43m]\u001b[49m\u001b[38;5;241m.\u001b[39mpage_content\n",
      "\u001b[1;31mIndexError\u001b[0m: list index out of range"
     ]
    }
   ],
   "source": [
    "docs[0].page_content"
   ]
  },
  {
   "cell_type": "code",
   "execution_count": 22,
   "id": "1ba30232-f468-4102-b70c-02c8b74da43d",
   "metadata": {},
   "outputs": [
    {
     "data": {
      "text/plain": [
       "['[客户问题] 我担心楼下太吵。\\n', '这个小区特别注重居住体验，我们有良好的隔音设计，并且小区内部规划了绿化区域，可以有效降低噪音。']"
      ]
     },
     "execution_count": 22,
     "metadata": {},
     "output_type": "execute_result"
    }
   ],
   "source": [
    "docs[0].page_content.split(\"[业务人员回答] \")"
   ]
  },
  {
   "cell_type": "code",
   "execution_count": 23,
   "id": "bda8eb0c-eb1f-47b2-91ab-4c94ff71c3db",
   "metadata": {},
   "outputs": [],
   "source": [
    "ans = docs[0].page_content.split(\"[业务人员回答] \")[-1]"
   ]
  },
  {
   "cell_type": "code",
   "execution_count": 24,
   "id": "917a3b6c-3149-42e2-b7b6-abebd94b7f72",
   "metadata": {},
   "outputs": [
    {
     "data": {
      "text/plain": [
       "'这个小区特别注重居住体验，我们有良好的隔音设计，并且小区内部规划了绿化区域，可以有效降低噪音。'"
      ]
     },
     "execution_count": 24,
     "metadata": {},
     "output_type": "execute_result"
    }
   ],
   "source": [
    "ans"
   ]
  },
  {
   "cell_type": "markdown",
   "id": "b36b61a5-156d-4546-bbd1-8a983e94676b",
   "metadata": {},
   "source": [
    "#### 尝试各种问题"
   ]
  },
  {
   "cell_type": "code",
   "execution_count": 25,
   "id": "c311a656-e571-45d6-8690-88e4be2c2a65",
   "metadata": {},
   "outputs": [],
   "source": [
    "from typing import List\n",
    "\n",
    "def sales(query: str, score_threshold: float=0.8) -> List[str]:\n",
    "    retriever = db.as_retriever(search_type=\"similarity_score_threshold\", search_kwargs={\"score_threshold\": score_threshold})    \n",
    "    docs = retriever.get_relevant_documents(query)\n",
    "    ans_list = [doc.page_content.split(\"[销售回答] \")[-1] for doc in docs]\n",
    "\n",
    "    return ans_list"
   ]
  },
  {
   "cell_type": "code",
   "execution_count": 26,
   "id": "2f4c6c08-b97c-4727-9aa1-a474d85a11e4",
   "metadata": {},
   "outputs": [
    {
     "name": "stdout",
     "output_type": "stream",
     "text": [
      "[]\n"
     ]
    },
    {
     "name": "stderr",
     "output_type": "stream",
     "text": [
      "/root/miniconda3/envs/langchain/lib/python3.10/site-packages/langchain/schema/vectorstore.py:287: UserWarning: No relevant docs were retrieved using the relevance score threshold 0.8\n",
      "  warnings.warn(\n"
     ]
    }
   ],
   "source": [
    "query = \"我想离医院近点\"\n",
    "\n",
    "print(sales(query))"
   ]
  },
  {
   "cell_type": "code",
   "execution_count": 27,
   "id": "11e3d8b6-839f-4b2f-b519-841e0271f95b",
   "metadata": {},
   "outputs": [
    {
     "name": "stdout",
     "output_type": "stream",
     "text": [
      "['有的，距离我们小区不远就有几家大型综合医院。', '是的，附近有多家大型医院，医疗资源非常丰富。']\n"
     ]
    }
   ],
   "source": [
    "print(sales(query, 0.75))"
   ]
  },
  {
   "cell_type": "code",
   "execution_count": 28,
   "id": "fc5b030a-ae6f-4d42-9577-1420c78aecb1",
   "metadata": {},
   "outputs": [
    {
     "name": "stdout",
     "output_type": "stream",
     "text": [
      "score:0.8 ans: []\n",
      "\n",
      "score:0.75 ans: []\n",
      "\n"
     ]
    },
    {
     "name": "stderr",
     "output_type": "stream",
     "text": [
      "/root/miniconda3/envs/langchain/lib/python3.10/site-packages/langchain/schema/vectorstore.py:287: UserWarning: No relevant docs were retrieved using the relevance score threshold 0.75\n",
      "  warnings.warn(\n"
     ]
    },
    {
     "name": "stdout",
     "output_type": "stream",
     "text": [
      "score:0.5 ans: ['我们有不同户型和付款方案，一定有适合您预算的。', '我们的房子位于黄金地段，升值潜力很大，转卖起来不会有问题。', '定金金额取决于您选择的房型和付款方式，我们可以详细为您解释。', '这个区域正在快速发展，未来的升值潜力非常大。']\n",
      "\n"
     ]
    }
   ],
   "source": [
    "query = \"价格200万以内\"\n",
    "\n",
    "print(f\"score:0.8 ans: {sales(query)}\\n\")\n",
    "print(f\"score:0.75 ans: {sales(query, 0.75)}\\n\")\n",
    "print(f\"score:0.5 ans: {sales(query, 0.5)}\\n\")"
   ]
  },
  {
   "cell_type": "markdown",
   "id": "9e26e6d7-259b-4ecf-9c72-027befba4e3b",
   "metadata": {},
   "source": [
    "#### 当向量数据库中没有合适答案时，使用大语言模型能力"
   ]
  },
  {
   "cell_type": "code",
   "execution_count": 29,
   "id": "9142feb4-980a-4142-b367-1401021dceef",
   "metadata": {},
   "outputs": [],
   "source": [
    "from langchain.chains import RetrievalQA\n",
    "from langchain_openai import ChatOpenAI\n",
    "\n",
    "llm = ChatOpenAI(model_name=\"gpt-4-1106-preview\", temperature=0.5)\n",
    "qa_chain = RetrievalQA.from_chain_type(llm,\n",
    "                                       retriever=db.as_retriever(search_type=\"similarity_score_threshold\",\n",
    "                                                                 search_kwargs={\"score_threshold\": 0.8}))"
   ]
  },
  {
   "cell_type": "code",
   "execution_count": 31,
   "id": "d281b560-54bb-4a25-a1dc-b23874361654",
   "metadata": {},
   "outputs": [
    {
     "data": {
      "text/plain": [
       "{'query': '你们小区有200万的房子吗？',\n",
       " 'result': '对不起，我无法回答这个问题，因为我是一个人工智能，没有实时的房地产信息。建议你直接联系房地产经纪人或者查阅相关房地产网站获取信息。'}"
      ]
     },
     "execution_count": 31,
     "metadata": {},
     "output_type": "execute_result"
    }
   ],
   "source": [
    "qa_chain({\"query\": \"你们小区有200万的房子吗？\"})"
   ]
  },
  {
   "cell_type": "code",
   "execution_count": 32,
   "id": "c6a30dcc-fa6b-4282-935c-b07902746e19",
   "metadata": {},
   "outputs": [
    {
     "data": {
      "text/plain": [
       "{'query': '小区吵不吵',\n",
       " 'result': '这个小区特别注重居住体验，有良好的隔音设计，并且小区内部规划了绿化区域，可以有效降低噪音。所以，小区应该不会太吵。'}"
      ]
     },
     "execution_count": 32,
     "metadata": {},
     "output_type": "execute_result"
    }
   ],
   "source": [
    "qa_chain({\"query\": \"小区吵不吵\"})"
   ]
  },
  {
   "cell_type": "code",
   "execution_count": 33,
   "id": "9da44bd6-02ef-4fb6-8e9e-7c99aeba483a",
   "metadata": {},
   "outputs": [
    {
     "name": "stdout",
     "output_type": "stream",
     "text": [
      "['这个小区特别注重居住体验，我们有良好的隔音设计，并且小区内部规划了绿化区域，可以有效降低噪音。']\n"
     ]
    }
   ],
   "source": [
    "print(sales(\"小区吵不吵\"))"
   ]
  },
  {
   "cell_type": "code",
   "execution_count": null,
   "id": "9764bb10-44ed-47c9-a351-a68f4f7d4f44",
   "metadata": {},
   "outputs": [],
   "source": []
  },
  {
   "cell_type": "markdown",
   "id": "0a0647e8-5b41-4c93-87c2-3240ec558717",
   "metadata": {},
   "source": [
    "## 加载 FAISS 向量数据库已有结果"
   ]
  },
  {
   "cell_type": "code",
   "execution_count": 34,
   "id": "913edd04-37ea-4c3f-9346-086aeb0ab447",
   "metadata": {},
   "outputs": [],
   "source": [
    "from langchain_openai import OpenAIEmbeddings\n",
    "from langchain.vectorstores import FAISS\n",
    "\n",
    "db = FAISS.load_local(\"real_estates_sale\", OpenAIEmbeddings())"
   ]
  },
  {
   "cell_type": "code",
   "execution_count": 35,
   "id": "77d8eee4-6383-4b4a-9737-95ea9fc53b87",
   "metadata": {},
   "outputs": [],
   "source": [
    "from langchain.chains import RetrievalQA\n",
    "from langchain.chat_models import ChatOpenAI\n",
    "\n",
    "llm = ChatOpenAI(model_name=\"gpt-4\", temperature=0.5)\n",
    "qa_chain = RetrievalQA.from_chain_type(llm,\n",
    "                                       retriever=db.as_retriever(search_type=\"similarity_score_threshold\",\n",
    "                                                                 search_kwargs={\"score_threshold\": 0.8}))"
   ]
  },
  {
   "cell_type": "code",
   "execution_count": 36,
   "id": "5dfac197-cadb-47d7-8cbe-1b07a83fc8e1",
   "metadata": {},
   "outputs": [
    {
     "data": {
      "text/plain": [
       "{'query': '我想买别墅，你们有么',\n",
       " 'result': '对不起，我无法提供这样的服务。我是一个人工智能，我可以帮助回答问题，但我不能出售商品或房产。'}"
      ]
     },
     "execution_count": 36,
     "metadata": {},
     "output_type": "execute_result"
    }
   ],
   "source": [
    "qa_chain({\"query\": \"我想买别墅，你们有么\"})"
   ]
  },
  {
   "cell_type": "code",
   "execution_count": 37,
   "id": "fc393afc-06d3-4483-bd24-efe000ef5f2a",
   "metadata": {},
   "outputs": [],
   "source": [
    "# 输出内部 Chain 的日志\n",
    "qa_chain.combine_documents_chain.verbose = True"
   ]
  },
  {
   "cell_type": "code",
   "execution_count": 38,
   "id": "013c313a-5e7c-48d1-8ed4-eee96e50a99c",
   "metadata": {},
   "outputs": [
    {
     "name": "stdout",
     "output_type": "stream",
     "text": [
      "\n",
      "\n",
      "\u001b[1m> Entering new StuffDocumentsChain chain...\u001b[0m\n",
      "\n",
      "\u001b[1m> Finished chain.\u001b[0m\n"
     ]
    },
    {
     "data": {
      "text/plain": [
       "{'query': '我想买别墅，你们有么', 'result': '对不起，我不能帮助你购买别墅，因为我是一个人工智能，没有提供房地产服务的功能。'}"
      ]
     },
     "execution_count": 38,
     "metadata": {},
     "output_type": "execute_result"
    }
   ],
   "source": [
    "qa_chain({\"query\": \"我想买别墅，你们有么\"})"
   ]
  },
  {
   "cell_type": "code",
   "execution_count": 39,
   "id": "e5fb0943-ffe9-4270-8dbe-f5f5314e6042",
   "metadata": {},
   "outputs": [],
   "source": [
    "# 返回向量数据库的检索结果\n",
    "qa_chain.return_source_documents = True"
   ]
  },
  {
   "cell_type": "code",
   "execution_count": 40,
   "id": "fbc1741e-d34f-4df5-874b-02b78e8cd67a",
   "metadata": {},
   "outputs": [
    {
     "name": "stdout",
     "output_type": "stream",
     "text": [
      "\n",
      "\n",
      "\u001b[1m> Entering new StuffDocumentsChain chain...\u001b[0m\n",
      "\n",
      "\u001b[1m> Finished chain.\u001b[0m\n"
     ]
    }
   ],
   "source": [
    "result = qa_chain({\"query\": \"我想买别墅，你们有么\"})"
   ]
  },
  {
   "cell_type": "code",
   "execution_count": 41,
   "id": "fac8309c-033c-4144-ada0-08e74fa9bf2d",
   "metadata": {},
   "outputs": [
    {
     "data": {
      "text/plain": [
       "{'query': '我想买别墅，你们有么',\n",
       " 'result': '对不起，我不能帮你购买别墅。我是一个AI助手，我主要用来提供信息和回答问题。',\n",
       " 'source_documents': []}"
      ]
     },
     "execution_count": 41,
     "metadata": {},
     "output_type": "execute_result"
    }
   ],
   "source": [
    "result"
   ]
  },
  {
   "cell_type": "code",
   "execution_count": null,
   "id": "37de84df-999f-4469-9bbe-de9c95c6f6b3",
   "metadata": {},
   "outputs": [],
   "source": []
  }
 ],
 "metadata": {
  "kernelspec": {
   "display_name": "Python 3 (ipykernel)",
   "language": "python",
   "name": "python3"
  },
  "language_info": {
   "codemirror_mode": {
    "name": "ipython",
    "version": 3
   },
   "file_extension": ".py",
   "mimetype": "text/x-python",
   "name": "python",
   "nbconvert_exporter": "python",
   "pygments_lexer": "ipython3",
   "version": "3.10.14"
  }
 },
 "nbformat": 4,
 "nbformat_minor": 5
}
